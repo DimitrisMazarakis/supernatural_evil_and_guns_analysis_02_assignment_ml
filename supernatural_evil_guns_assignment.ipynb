{
 "cells": [
  {
   "cell_type": "markdown",
   "metadata": {},
   "source": [
    "# Belief in Supernatural Evil and Guns\n",
    "\n",
    "In this assignment you will replicate a study of belief in supernatural evil and attitudes towards guns in the United States. The study is:\n",
    "\n",
    "Christopher G. Ellison, Benjamin Dowd-Arrow, Amy M. Burdette, Pablo E. Gonzalez, Margaret S. Kelley, Paul Froese,\n",
    "\"Peace through superior firepower: Belief in supernatural evil and attitudes toward gun policy in the United States\", Social Science Research, Volume 99, 2021, https://doi.org/10.1016/j.ssresearch.2021.102595.\n",
    "\n",
    "Read the paper, locate, download, and familiarize yourself with the dataset.\n",
    "\n",
    "---\n",
    "\n",
    "> Panos Louridas, Associate Professor <br />\n",
    "> Department of Management Science and Technology <br />\n",
    "> Athens University of Economics and Business <br />\n",
    "> louridas@aueb.gr\n"
   ]
  },
  {
   "cell_type": "markdown",
   "metadata": {},
   "source": [
    "## Questions\n",
    "\n",
    "\n",
    "### Q1: Belief in Supernatural Evil Metric\n",
    "\n",
    "In order to measure the belief in supernatural evil, we will use the answers to three questions asked by the participants in the survey:\n",
    "\n",
    "* Whether the respondent believes in the devil.\n",
    "\n",
    "* Whether the respondent believes in hell.\n",
    "\n",
    "* Whether the respondent believes in demons.\n",
    "\n",
    "You will investigate how the answers to these three questions can be combined to a single metric. Justify your approach. "
   ]
  },
  {
   "cell_type": "markdown",
   "metadata": {},
   "source": [
    "### Q2: Variables Selection\n",
    "\n",
    "Apart from the belief in supernatural evil metric, you will use several other variables to control your estimates. The variables are (see Appendix B of the original publication):\n",
    "\n",
    "* Dependent Variables\n",
    "\n",
    "  * Ban on Semi-Auto Guns\n",
    "  * Ban on High-Capacity Ammo Clips \n",
    "  * Banning Civilian Handguns\n",
    "  * Support for Concealed Carry Laws \n",
    "  * More Armed Security at Schools \n",
    "  * More Teachers/Faculty having Guns \n",
    "  * More Gun Safety Programs \n",
    "  * Expanded Mental Health Screening\n",
    "  \n",
    "* Independept Variables\n",
    " \n",
    "   * Religious Variables\n",
    "     * Attendance\n",
    "     * Bible (Human Error, History and Fables) \n",
    "     * Biblical Inerrancy\n",
    "     * Biblical Literalism\n",
    "     \n",
    "  * Religious Affiliation\n",
    "    * Conservative Protestant \n",
    "    * Mainline Protestant \n",
    "    * Black Protestant \n",
    "    * Catholic\n",
    "    * Other\n",
    "    * No Affiliation\n",
    "  * Political Ideology\n",
    "  * Age\n",
    "  * Sex\n",
    "    * Female\n",
    "    * Male\n",
    "  * Race\n",
    "    * White\n",
    "    * Hispanic\n",
    "    * African American/Black \n",
    "    * Other\n",
    "  * Education\n",
    "    * Less Than High School \n",
    "    * High School or Equivalent \n",
    "    * Some College\n",
    "    * College Degree \n",
    "    * Post-graduate Degree \n",
    "  * Household Income\n",
    "  * Marital Status\n",
    "    * Not Partnered/Single \n",
    "    * Married/Cohabitating\n",
    "  * Children\n",
    "    * No kids under 18 in home \n",
    "    * Kids under 18 in home\n",
    "  * Area Demographics\n",
    "    * Small Town/Rural\n",
    "    * Urban Area\n",
    "  * Region\n",
    "    * South\n",
    "    * Other Region\n",
    "    \n",
    "Derive descriptive statistics of your variables and encode them with dummy variables where needed. \n",
    "\n",
    "Be *very careful* in your dummy variables encoding. In the end, you should use the variables as shown in Table 1 and Table 2 of the original publication."
   ]
  },
  {
   "cell_type": "markdown",
   "metadata": {},
   "source": [
    "### Q3: Predict Support for Various Gun Policies\n",
    "\n",
    "You will then proceed to predict support for various gun policies from the metric of supernatural evil, controlling for background variables.\n",
    "\n",
    "The gun policies are:\n",
    "\n",
    "* Semi-Auto Weapons Ban\n",
    "\n",
    "* High-Capacity Magazine Ban\n",
    "\n",
    "* Cilivian Hand Gun Possession Ban\n",
    "\n",
    "* Support for Concealed Carry\n",
    "\n",
    "* More Armed Security at Schools\n",
    "\n",
    "* More Teachers / Faculty with Guns\n",
    "\n",
    "* Required Gun Safety Programs\n",
    "\n",
    "* Expanded Mental Health Screening\n",
    "\n",
    "Discuss the effects and the strengths of the various predictors (metric of supernatural evil, which is our focal variable, plus any others that you see significant). You should cross-check with Table 1 and Table 2 of the original publication.\n",
    "\n",
    "The research was reported in *The Economist*, on November 6, 2021, under the title \"Belief in supernatural evil is a strong predictor of pro-gun beliefs\" (United States section), available at https://www.economist.com/united-states/2021/11/06/belief-in-supernatural-evil-is-a-strong-predictor-of-pro-gun-beliefs (you may access it after a free registration).\n",
    "\n",
    "Do you agree with the reporting of the research on the newspaper?"
   ]
  },
  {
   "cell_type": "markdown",
   "metadata": {},
   "source": [
    "### Q4: Additional Estimations of the Strength of Predictors\n",
    "\n",
    "In addition to logistic regression, you will run a complementary series of linear regressions to estimate the strength of the various predictors. In this way you will obtain [standardized coefficients](https://en.wikipedia.org/wiki/Standardized_coefficient) that are easier to interpret than the coefficients of logistic regression. For more on this approach, see:\n",
    "\n",
    "Von Hippel, Paul, 2015. “Linear vs. Logistic models: which is better, and when?” Statistical horizons. July 5. Retrieved on December 3, 2021. https://statisticalhorizons.com/linear-vs-logistic."
   ]
  },
  {
   "cell_type": "markdown",
   "metadata": {},
   "source": [
    "### Q5: Compare with Decision Trees / Random Forest Estimators\n",
    "\n",
    "Having worked with logistic and linear regression models, carry out predictions by using Decision Trees / Random Forests of your choice; you may have to try different ones and pick up the best. Then, check if the predictors, primarily the belief in supernatural evil, make also a strong showing with the best model you have found."
   ]
  },
  {
   "cell_type": "markdown",
   "metadata": {},
   "source": [
    "## Submission Instructions\n",
    "\n",
    "You will submit a Jupyter notebook that will contain all your code and analysis. Ensure that the notebook will run correctly in a computer that is not your own. That means, among other things, that it does not contain absolute paths. Remember that a notebook is not a collection of code cells thrown together; it should contain as much text as necessary for a person to understand what you are doing."
   ]
  },
  {
   "cell_type": "markdown",
   "metadata": {},
   "source": [
    "## Honor Code\n",
    "\n",
    "You understand that this is an individual assignment, and as such you must carry it out alone. You may seek help on the Internet, by Googling or searching in StackOverflow for general questions pertaining to the use of Python,  libraries, and idioms. However, it is not right to ask direct questions that relate to the assignment and where people will actually solve your problem by answering them. You may discuss with your fellow students in order to better understand the questions, if they are not clear enough, but you should not ask them to share their answers with you, or to help you by giving specific advice."
   ]
  }
 ],
 "metadata": {
  "kernelspec": {
   "display_name": "Python 3 (ipykernel)",
   "language": "python",
   "name": "python3"
  },
  "language_info": {
   "codemirror_mode": {
    "name": "ipython",
    "version": 3
   },
   "file_extension": ".py",
   "mimetype": "text/x-python",
   "name": "python",
   "nbconvert_exporter": "python",
   "pygments_lexer": "ipython3",
   "version": "3.9.9"
  }
 },
 "nbformat": 4,
 "nbformat_minor": 2
}
